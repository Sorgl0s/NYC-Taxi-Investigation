{
 "cells": [
  {
   "cell_type": "code",
   "execution_count": 1,
   "id": "f1383c5e",
   "metadata": {},
   "outputs": [
    {
     "name": "stderr",
     "output_type": "stream",
     "text": [
      "21/08/14 16:26:55 WARN Utils: Your hostname, Tristan-PC resolves to a loopback address: 127.0.1.1; using 172.20.65.137 instead (on interface eth0)\n",
      "21/08/14 16:26:55 WARN Utils: Set SPARK_LOCAL_IP if you need to bind to another address\n",
      "21/08/14 16:26:57 WARN NativeCodeLoader: Unable to load native-hadoop library for your platform... using builtin-java classes where applicable\n",
      "Using Spark's default log4j profile: org/apache/spark/log4j-defaults.properties\n",
      "Setting default log level to \"WARN\".\n",
      "To adjust logging level use sc.setLogLevel(newLevel). For SparkR, use setLogLevel(newLevel).\n",
      "INFO:SparkMonitorKernel:Client Connected ('127.0.0.1', 44832)\n"
     ]
    }
   ],
   "source": [
    "from pyspark.sql import SparkSession\n",
    "from pyspark import SparkContext\n",
    "import warnings\n",
    "import pyspark.sql.functions as F\n",
    "from pyspark.sql.types import *\n",
    "from pyspark.sql.functions import col\n",
    "from pyspark.sql.functions import to_date\n",
    "import pandas as pd\n",
    "import numpy as np\n",
    "import seaborn as sns\n",
    "from sklearn.preprocessing import StandardScaler\n",
    "from sklearn.model_selection import train_test_split\n",
    "warnings.filterwarnings(\"ignore\")\n",
    "\n",
    "# Start the spark context\n",
    "sc = SparkContext.getOrCreate(conf=swan_spark_conf) \n",
    "\n",
    "# create a spark session (which will run spark jobs)\n",
    "spark = SparkSession.builder.getOrCreate()\n",
    "\n",
    "# Turn on arrow\n",
    "spark.conf.set('spark.sql.execution.arrow.pyspark.enabled', True)\n",
    "\n",
    "spark.conf.set('spark.sql.repl.eagerEval.enabled', True)\n",
    "spark.conf.set('spark.sql.execution.arrow.pyspark.enabled', True)"
   ]
  },
  {
   "cell_type": "code",
   "execution_count": 69,
   "id": "7e321259",
   "metadata": {},
   "outputs": [
    {
     "name": "stderr",
     "output_type": "stream",
     "text": [
      "                                                                                \r"
     ]
    }
   ],
   "source": [
    "# WEATHER (2018)\n",
    "\n",
    "# Read in weather data (Laguardia Airport 2018)\n",
    "LAG2018hr = spark.read.csv(\"..Hourly weather/LAG 2018.csv\", header = True)\n",
    "\n",
    "# Add some date/time columns and create new df with only relevant columns.\n",
    "LAG2018hr = LAG2018hr.withColumn(\"date_only\", to_date(LAG2018hr[\"DATE\"]))\\\n",
    "            .withColumn(\"hour_only\", F.hour(LAG2018hr[\"DATE\"]))\n",
    "LAG2018hr = LAG2018hr.withColumn(\"Day\", F.date_format(LAG2018hr.date_only, \"E\"))\n",
    "LAG2018hr = LAG2018hr[\"DATE\", \"HourlyDryBulbTemperature\", \"HourlyPrecipitation\", \"HourlyWindSpeed\", \"date_only\", \"hour_only\"]\n",
    "\n",
    "# Change T flag (trace precipitation amounts) to 0, per the data dictionary.\n",
    "LAG2018hr = LAG2018hr.withColumn(\"HourlyPrecipitation\", F.when(LAG2018hr[\"HourlyPrecipitation\"] == \"T\", \"0\") \\\n",
    "                               .otherwise(LAG2018hr[\"HourlyPrecipitation\"]))\n",
    "\n",
    "# Limit to 1 record per hour interval\n",
    "LAG2018hr = LAG2018hr.dropDuplicates([\"date_only\", \"hour_only\"]).orderBy(\"DATE\")\n",
    "\n",
    "df = LAG2018hr.toPandas()\n",
    "\n",
    "# Drop rows with any null values.\n",
    "df = df.dropna()\n",
    "\n",
    "df.to_csv(\"../Clean/LAG2018hrlyrelevant.csv\", index = False)"
   ]
  },
  {
   "cell_type": "code",
   "execution_count": null,
   "id": "66c2562f",
   "metadata": {},
   "outputs": [],
   "source": [
    "rain = LAG2018hr.select(\"HourlyPrecipitation\").distinct().collect()\n",
    "print(f\"Min: {min(rain)}\")\n",
    "print(f\"Max: {max(rain)}\")"
   ]
  },
  {
   "cell_type": "code",
   "execution_count": 3,
   "id": "85f89abe",
   "metadata": {},
   "outputs": [
    {
     "name": "stderr",
     "output_type": "stream",
     "text": [
      "                                                                                \r"
     ]
    }
   ],
   "source": [
    "# WEATHER (2019)\n",
    "\n",
    "# Read in weather data (Laguardia Airport 2019)\n",
    "LAG2019hr = spark.read.csv(\"../Hourly weather/LAG 2019.csv\", header = True)\n",
    "\n",
    "# Add some date/time columns, interaction terms and create new df with only relevant columns.\n",
    "LAG2019hr = LAG2019hr.withColumn(\"date_only\", to_date(LAG2019hr[\"DATE\"]))\\\n",
    "            .withColumn(\"hour_only\", F.hour(LAG2019hr[\"DATE\"]))\n",
    "LAG2019hr = LAG2019hr.withColumn(\"Day\", F.date_format(LAG2019hr.date_only, \"E\"))\n",
    "LAG2019hr = LAG2019hr[\"DATE\", \"HourlyDryBulbTemperature\", \"HourlyPrecipitation\", \"HourlyWindSpeed\", \"date_only\", \"hour_only\"]\n",
    "\n",
    "# Change T flag (trace precipitation amounts) to 0, per the data dictionary.\n",
    "LAG2019hr = LAG2019hr.withColumn(\"HourlyPrecipitation\", F.when(LAG2019hr[\"HourlyPrecipitation\"] == \"T\", \"0\") \\\n",
    "                               .otherwise(LAG2019hr[\"HourlyPrecipitation\"]))\n",
    "\n",
    "# Limit to 1 record per hour interval\n",
    "LAG2019hr = LAG2019hr.dropDuplicates([\"date_only\", \"hour_only\"]).orderBy(\"DATE\")\n",
    "\n",
    "df = LAG2019hr.toPandas()\n",
    "\n",
    "# Drop rows with any null values.\n",
    "df = df.dropna()\n",
    "\n",
    "df.to_csv(../\"Clean/LAG2019hrlyrelevant.csv\", index = False)"
   ]
  },
  {
   "cell_type": "code",
   "execution_count": 4,
   "id": "ee4a808c",
   "metadata": {},
   "outputs": [],
   "source": [
    "# TAXIS (2018 Green)\n",
    "\n",
    "green18 = spark.read.csv('../TLC Data/Green 2018', header=True)\n",
    "\n",
    "# The following schema creation code has been almost exactly copied from Akira Wang's MAST30034 pyspark tutorial.\n",
    "# Can be found at https://github.com/akiratwang/MAST30034_Python\n",
    "# Some modifications have been made to support Green taxi data.\n",
    "Gints = ('VendorID', 'passenger_count', 'RatecodeID', 'PULocationID', 'DOLocationID','payment_type', \"trip_type\")\n",
    "Gdoubles = ('trip_distance', 'fare_amount', 'extra', 'mta_tax', 'tip_amount', 'tolls_amount', 'improvement_surcharge', \n",
    "           'total_amount', 'congestion_surcharge', 'ehail_fee')\n",
    "Gstrings = ('store_and_fwd_flag',)\n",
    "Gdtimes = ('lpep_pickup_datetime', 'lpep_dropoff_datetime')\n",
    "\n",
    "dtypes = {column: IntegerType() for column in Gints}\n",
    "dtypes.update({column: DoubleType() for column in Gdoubles})\n",
    "dtypes.update({column: StringType() for column in Gstrings})\n",
    "dtypes.update({column: TimestampType() for column in Gdtimes})\n",
    "\n",
    "Gschema = StructType()\n",
    "\n",
    "for column in green18.columns:\n",
    "    Gschema.add(column, \n",
    "               dtypes[column], \n",
    "               True \n",
    "              )\n",
    "    \n",
    "green18WSchema = spark.read.csv('../TLC Data/Green 2018', header=True, schema=Gschema)\n",
    "\n",
    "# Create some custom time columns.\n",
    "green18WSchema = green18WSchema.withColumn(\"date_only\", to_date(green18WSchema.lpep_pickup_datetime)) \\\n",
    ".withColumn(\"hour_only\", F.hour(green18WSchema.lpep_pickup_datetime)) \\\n",
    ".withColumn(\"day_only\", F.dayofmonth(green18WSchema.lpep_pickup_datetime)) \\\n",
    ".withColumn(\"month_only\", F.month(green18WSchema.lpep_pickup_datetime)) \\\n",
    ".withColumn(\"year_only\", F.year(green18WSchema.lpep_pickup_datetime)) \\\n",
    ".withColumn(\"Day\", F.date_format(green18WSchema.lpep_pickup_datetime, \"E\"))\n",
    "\n",
    "# Remove rows without cash or card payment.\n",
    "green18WSchema = green18WSchema.where((green18WSchema.payment_type == 1) | (green18WSchema.payment_type == 2))\n",
    "\n",
    "# Remove rows that have a fare amount below the starting fare.\n",
    "green18WSchema = green18WSchema.where(green18WSchema.fare_amount > 2.50)\n",
    "\n",
    "# Remove rows with invalid year.\n",
    "green18WSchema = green18WSchema.where(green18WSchema.year_only == 2018)\n",
    "\n",
    "# Create trip time, fare rate and log(fare rate) columns.\n",
    "green18WSchema = green18WSchema.withColumn(\"PUlong\", green18WSchema.lpep_pickup_datetime.cast(\"long\"))\\\n",
    "                .withColumn(\"DOlong\", green18WSchema.lpep_dropoff_datetime.cast(\"long\"))\n",
    "green18WSchema = green18WSchema.withColumn(\"trip_time_hr\", (green18WSchema.DOlong - green18WSchema.PUlong)/3600)\n",
    "green18WSchema = green18WSchema.withColumn(\"hourly_rate\", green18WSchema.fare_amount/green18WSchema.trip_time_hr)\n",
    "\n",
    "# Remove rows with invalid trip times.\n",
    "green18WSchema = green18WSchema.where(green18WSchema.trip_time_hr > 0)"
   ]
  },
  {
   "cell_type": "code",
   "execution_count": 5,
   "id": "922e4624",
   "metadata": {},
   "outputs": [
    {
     "name": "stderr",
     "output_type": "stream",
     "text": [
      "                                                                                \r"
     ]
    },
    {
     "data": {
      "text/plain": [
       "<AxesSubplot:xlabel='Trip time'>"
      ]
     },
     "execution_count": 5,
     "metadata": {},
     "output_type": "execute_result"
    },
    {
     "data": {
      "image/png": "[encoded data removed]",
      "text/plain": [
       "<Figure size 432x288 with 1 Axes>"
      ]
     },
     "metadata": {
      "needs_background": "light"
     },
     "output_type": "display_data"
    }
   ],
   "source": [
    "# Trip time distributions.\n",
    "\n",
    "sample = green18WSchema.sample(fraction = 0.0001, seed = 1).select(green18WSchema.trip_time_hr, \\\n",
    "                                                                  green18WSchema.hourly_rate).collect()\n",
    "times = [row[0] for row in sample]\n",
    "boxplot = sns.boxplot(times)\n",
    "boxplot.set_xlabel(\"Trip time\")\n",
    "boxplot"
   ]
  },
  {
   "cell_type": "code",
   "execution_count": 15,
   "id": "2d1c8708",
   "metadata": {},
   "outputs": [
    {
     "name": "stderr",
     "output_type": "stream",
     "text": [
      "                                                                                \r"
     ]
    },
    {
     "data": {
      "text/plain": [
       "0.004917159869135727"
      ]
     },
     "execution_count": 15,
     "metadata": {},
     "output_type": "execute_result"
    }
   ],
   "source": [
    "# Ratio of trips > 15 hrs. High enough not to remove.\n",
    "\n",
    "green18WSchema.where(green18WSchema.trip_time_hr > 15).count()/green18WSchema.count()"
   ]
  },
  {
   "cell_type": "code",
   "execution_count": 7,
   "id": "d11362bd",
   "metadata": {},
   "outputs": [
    {
     "data": {
      "text/plain": [
       "<AxesSubplot:xlabel='log(Trip time)'>"
      ]
     },
     "execution_count": 7,
     "metadata": {},
     "output_type": "execute_result"
    },
    {
     "data": {
      "image/png": "[encoded data removed]",
      "text/plain": [
       "<Figure size 432x288 with 1 Axes>"
      ]
     },
     "metadata": {
      "needs_background": "light"
     },
     "output_type": "display_data"
    }
   ],
   "source": [
    "# Try a log transformation.\n",
    "\n",
    "logtimes = np.log10(times)\n",
    "boxplot = sns.boxplot(logtimes)\n",
    "boxplot.set_xlabel(\"log(Trip time)\")\n",
    "boxplot"
   ]
  },
  {
   "cell_type": "code",
   "execution_count": 8,
   "id": "594319c4",
   "metadata": {},
   "outputs": [
    {
     "name": "stderr",
     "output_type": "stream",
     "text": [
      "                                                                                \r"
     ]
    },
    {
     "name": "stdout",
     "output_type": "stream",
     "text": [
      "Min zone ID: 1\n",
      "Max zone ID: 265\n"
     ]
    },
    {
     "name": "stderr",
     "output_type": "stream",
     "text": [
      "                                                                                \r"
     ]
    },
    {
     "data": {
      "text/plain": [
       "0.0030411924779003563"
      ]
     },
     "execution_count": 8,
     "metadata": {},
     "output_type": "execute_result"
    }
   ],
   "source": [
    "# Investigate pickup zones.\n",
    "\n",
    "PUzones = green18WSchema.select(\"PULocationID\").distinct().collect()\n",
    "PUzoneslist = [row[0] for row in PUzones]\n",
    "print(f\"Min zone ID: {min(PUzoneslist)}\")\n",
    "print(f\"Max zone ID: {max(PUzoneslist)}\")\n",
    "\n",
    "# According to the zone info CSV from TLC, zones 264 and 265 don't really exist.\n",
    "# https://s3.amazonaws.com/nyc-tlc/misc/taxi+_zone_lookup.csv\n",
    "# However a large enough portion of our trips are from/to those locations so they will remain in there for now.\n",
    "green18WSchema.where((green18WSchema.PULocationID  == 264) | (green18WSchema.PULocationID == 265) \\\n",
    "                    | (green18WSchema.DOLocationID == 264) | (green18WSchema.DOLocationID == 265)).count() \\\n",
    "                    / green18WSchema.count()"
   ]
  },
  {
   "cell_type": "code",
   "execution_count": 9,
   "id": "ddaf703f",
   "metadata": {},
   "outputs": [
    {
     "data": {
      "text/plain": [
       "<AxesSubplot:xlabel='Dollars/hr (fare total only)'>"
      ]
     },
     "execution_count": 9,
     "metadata": {},
     "output_type": "execute_result"
    },
    {
     "data": {
      "image/png": "[encoded data removed]",
      "text/plain": [
       "<Figure size 432x288 with 1 Axes>"
      ]
     },
     "metadata": {
      "needs_background": "light"
     },
     "output_type": "display_data"
    }
   ],
   "source": [
    "# Investigating fare earned per hour.\n",
    "\n",
    "rates = [row[1] for row in sample]\n",
    "boxplot = sns.boxplot(rates)\n",
    "boxplot.set_xlabel(\"Dollars/hr (fare total only)\")\n",
    "boxplot"
   ]
  },
  {
   "cell_type": "code",
   "execution_count": 10,
   "id": "bc3c76c1",
   "metadata": {},
   "outputs": [
    {
     "data": {
      "text/plain": [
       "<AxesSubplot:xlabel='log(Dollars/hr) (fare total only)'>"
      ]
     },
     "execution_count": 10,
     "metadata": {},
     "output_type": "execute_result"
    },
    {
     "data": {
      "image/png": "[encoded data removed]",
      "text/plain": [
       "<Figure size 432x288 with 1 Axes>"
      ]
     },
     "metadata": {
      "needs_background": "light"
     },
     "output_type": "display_data"
    }
   ],
   "source": [
    "# Try a log transformation.\n",
    "\n",
    "rateslog = np.log10(rates)\n",
    "boxplot = sns.boxplot(rateslog)\n",
    "boxplot.set_xlabel(\"log(Dollars/hr) (fare total only)\")\n",
    "boxplot"
   ]
  },
  {
   "cell_type": "code",
   "execution_count": 68,
   "id": "f87798de",
   "metadata": {},
   "outputs": [
    {
     "name": "stderr",
     "output_type": "stream",
     "text": [
      "                                                                                \r"
     ]
    }
   ],
   "source": [
    "# Add log transformed hourly fare rate to sdf.\n",
    "green18WSchema = green18WSchema.withColumn(\"log_rate\", F.log(10.0, green18WSchema.hourly_rate))\n",
    "\n",
    "# Discard irrelevant columns.\n",
    "green18Relevant = green18WSchema[\"PULocationID\", \"DOLocationID\", \"passenger_count\", \"fare_amount\", \"date_only\", \\\n",
    "                                \"hour_only\", \"Day\", \"trip_time_hr\", \"hourly_rate\", \"log_rate\"]\n",
    "\n",
    "# Join trips to hourly pick up time weather.\n",
    "hourJoin = green18Relevant.join(LAG2018hr, (green18Relevant.date_only == LAG2018hr.date_only) & \\\n",
    "                               (green18Relevant.hour_only == LAG2018hr.hour_only))\n",
    "\n",
    "# Group by hourly pickup intervals. (24*365 groups)\n",
    "hourGroup = hourJoin.groupBy(green18Relevant.hour_only, green18Relevant.Day, green18Relevant.date_only)\\\n",
    "                                    .agg(F.mean(green18Relevant.log_rate).alias(\"Average_log_rate\"), \n",
    "                                    F.mean(green18Relevant.trip_time_hr).alias(\"Average_trip_time\"),\n",
    "                                    F.mean(LAG2018hr.HourlyDryBulbTemperature).alias(\"Air_temperature\"),\n",
    "                                    F.mean(LAG2018hr.HourlyPrecipitation).alias(\"Precipitation\"),\n",
    "                                    F.mean(LAG2018hr.HourlyWindSpeed).alias(\"Wind_speed\"),\n",
    "                                    F.count(F.lit(1)).alias(\"Num_trips\"))\n",
    "\n",
    "# Scale continuous values and save.\n",
    "groupdf = hourGroup.toPandas()\n",
    "groupdf = groupdf.dropna()\n",
    "groupdf = pd.get_dummies(groupdf, columns = [\"Day\", \"hour_only\"])\n",
    "groupdf = groupdf.drop(\"date_only\", axis = 1)\n",
    "\n",
    "# Partition into train and test datasets and scale based on train.\n",
    "train, test = train_test_split(groupdf, test_size = 0.2, random_state = 1)\n",
    "\n",
    "scaler = StandardScaler()\n",
    "train.loc[:, \"Average_trip_time\" : \"Num_trips\"] = scaler.fit_transform(train.loc[:, \"Average_trip_time\" : \"Num_trips\"])\n",
    "test.loc[:, \"Average_trip_time\" : \"Num_trips\"] = scaler.transform(test.loc[:, \"Average_trip_time\" : \"Num_trips\"])\n",
    "train[\"TempxWind\"] = train[\"Air_temperature\"]*train[\"Wind_speed\"]\n",
    "train[\"TempxPrcp\"] = train[\"Air_temperature\"]*train[\"Precipitation\"]\n",
    "train[\"WindxPrcp\"] = train[\"Wind_speed\"]*train[\"Precipitation\"]\n",
    "test[\"TempxWind\"] = test[\"Air_temperature\"]*test[\"Wind_speed\"]\n",
    "test[\"TempxPrcp\"] = test[\"Air_temperature\"]*test[\"Precipitation\"]\n",
    "test[\"WindxPrcp\"] = test[\"Wind_speed\"]*test[\"Precipitation\"]\n",
    "train.to_csv(\"../Clean/hourGroup18train.csv\", index = False)\n",
    "test.to_csv(\"../Clean/hourGroup18test.csv\", index = False)"
   ]
  },
  {
   "cell_type": "code",
   "execution_count": 13,
   "id": "7b12ab45",
   "metadata": {},
   "outputs": [
    {
     "name": "stderr",
     "output_type": "stream",
     "text": [
      "                                                                                \r"
     ]
    }
   ],
   "source": [
    "# TAXIS (Green 2019)\n",
    "# Follows all the same cleaning. Scaled according to 2018 data.\n",
    "\n",
    "green19WSchema = spark.read.csv('../TLC Data/Green 2019', header=True, schema=Gschema)\n",
    "\n",
    "# Create some custom time columns.\n",
    "green19WSchema = green19WSchema.withColumn(\"date_only\", to_date(green19WSchema.lpep_pickup_datetime)) \\\n",
    ".withColumn(\"hour_only\", F.hour(green19WSchema.lpep_pickup_datetime)) \\\n",
    ".withColumn(\"day_only\", F.dayofmonth(green19WSchema.lpep_pickup_datetime)) \\\n",
    ".withColumn(\"month_only\", F.month(green19WSchema.lpep_pickup_datetime)) \\\n",
    ".withColumn(\"year_only\", F.year(green19WSchema.lpep_pickup_datetime)) \\\n",
    ".withColumn(\"Day\", F.date_format(green19WSchema.lpep_pickup_datetime, \"E\"))\n",
    "\n",
    "# Remove rows without cash or card payment.\n",
    "green19WSchema = green19WSchema.where((green19WSchema.payment_type == 1) | (green19WSchema.payment_type == 2))\n",
    "\n",
    "# Remove rows that have a fare amount below the starting fare.\n",
    "green19WSchema = green19WSchema.where(green19WSchema.fare_amount > 2.50)\n",
    "\n",
    "# Remove rows with invalid year.\n",
    "green19WSchema = green19WSchema.where(green19WSchema.year_only == 2019)\n",
    "\n",
    "# Create trip time, fare rate and log(fare rate) columns.\n",
    "green19WSchema = green19WSchema.withColumn(\"PUlong\", green19WSchema.lpep_pickup_datetime.cast(\"long\"))\\\n",
    "                .withColumn(\"DOlong\", green19WSchema.lpep_dropoff_datetime.cast(\"long\"))\n",
    "green19WSchema = green19WSchema.withColumn(\"trip_time_hr\", (green19WSchema.DOlong - green19WSchema.PUlong)/3600)\n",
    "green19WSchema = green19WSchema.withColumn(\"hourly_rate\", green19WSchema.fare_amount/green19WSchema.trip_time_hr)\n",
    "\n",
    "# Remove rows with invalid trip times.\n",
    "green19WSchema = green19WSchema.where(green19WSchema.trip_time_hr > 0)\n",
    "\n",
    "# Add log transformed hourly fare rate to sdf.\n",
    "green19WSchema = green19WSchema.withColumn(\"log_rate\", F.log(10.0, green19WSchema.hourly_rate))\n",
    "\n",
    "# Discard irrelevant columns.\n",
    "green19Relevant = green19WSchema[\"passenger_count\", \"fare_amount\", \"date_only\", \\\n",
    "                                \"hour_only\", \"Day\", \"trip_time_hr\", \"hourly_rate\", \"log_rate\"]\n",
    "\n",
    "# Join trips to hourly pick up time weather.\n",
    "hourJoin = green19Relevant.join(LAG2019hr, (green19Relevant.date_only == LAG2019hr.date_only) & \\\n",
    "                               (green19Relevant.hour_only == LAG2019hr.hour_only))\n",
    "\n",
    "# Group by hourly pickup intervals. (24*365 groups)\n",
    "hourGroup = hourJoin.groupBy(green19Relevant.hour_only, green19Relevant.Day, green19Relevant.date_only)\\\n",
    "                                    .agg(F.mean(green19Relevant.log_rate).alias(\"Average_log_rate\"), \n",
    "                                    F.mean(green19Relevant.trip_time_hr).alias(\"Average_trip_time\"),\n",
    "                                    F.mean(LAG2019hr.HourlyDryBulbTemperature).alias(\"Air_temperature\"),\n",
    "                                    F.mean(LAG2019hr.HourlyPrecipitation).alias(\"Precipitation\"),\n",
    "                                    F.mean(LAG2019hr.HourlyWindSpeed).alias(\"Wind_speed\"),\n",
    "                                    F.count(F.lit(1)).alias(\"Num_trips\"))\n",
    "\n",
    "# Scale continuous values and save.\n",
    "groupdf = hourGroup.toPandas()\n",
    "groupdf = groupdf.dropna()\n",
    "groupdf = groupdf.drop(\"date_only\", axis = 1)\n",
    "groupdf.loc[:, \"Average_trip_time\" : \"Num_trips\"] = scaler.transform(groupdf.loc[:, \"Average_trip_time\" : \"Num_trips\"])\n",
    "groupdf[\"TempxWind\"] = groupdf[\"Air_temperature\"]*groupdf[\"Wind_speed\"]\n",
    "groupdf[\"TempxPrcp\"] = groupdf[\"Air_temperature\"]*groupdf[\"Precipitation\"]\n",
    "groupdf[\"WindxPrcp\"] = groupdf[\"Wind_speed\"]*groupdf[\"Precipitation\"]\n",
    "groupdf.to_csv(\"../Clean/hourGroup19.csv\", index = False)"
   ]
  }
 ],
 "metadata": {
  "kernelspec": {
   "display_name": "Python 3 (ipykernel)",
   "language": "python",
   "name": "python3"
  },
  "language_info": {
   "codemirror_mode": {
    "name": "ipython",
    "version": 3
   },
   "file_extension": ".py",
   "mimetype": "text/x-python",
   "name": "python",
   "nbconvert_exporter": "python",
   "pygments_lexer": "ipython3",
   "version": "3.8.10"
  },
  "varInspector": {
   "cols": {
    "lenName": 16,
    "lenType": 16,
    "lenVar": 40
   },
   "kernels_config": {
    "python": {
     "delete_cmd_postfix": "",
     "delete_cmd_prefix": "del ",
     "library": "var_list.py",
     "varRefreshCmd": "print(var_dic_list())"
    },
    "r": {
     "delete_cmd_postfix": ") ",
     "delete_cmd_prefix": "rm(",
     "library": "var_list.r",
     "varRefreshCmd": "cat(var_dic_list()) "
    }
   },
   "types_to_exclude": [
    "module",
    "function",
    "builtin_function_or_method",
    "instance",
    "_Feature"
   ],
   "window_display": false
  }
 },
 "nbformat": 4,
 "nbformat_minor": 5
}
